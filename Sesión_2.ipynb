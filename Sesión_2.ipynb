{
  "nbformat": 4,
  "nbformat_minor": 0,
  "metadata": {
    "colab": {
      "name": "Sesión 2.ipynb",
      "provenance": [],
      "authorship_tag": "ABX9TyPgarNlKkrzetptOa8szTES",
      "include_colab_link": true
    },
    "kernelspec": {
      "name": "python3",
      "display_name": "Python 3"
    },
    "language_info": {
      "name": "python"
    }
  },
  "cells": [
    {
      "cell_type": "markdown",
      "metadata": {
        "id": "view-in-github",
        "colab_type": "text"
      },
      "source": [
        "<a href=\"https://colab.research.google.com/github/EnderTroll20/Curso-Python/blob/main/Sesi%C3%B3n_2.ipynb\" target=\"_parent\"><img src=\"https://colab.research.google.com/assets/colab-badge.svg\" alt=\"Open In Colab\"/></a>"
      ]
    },
    {
      "cell_type": "code",
      "metadata": {
        "id": "2cwPoMhsFVan"
      },
      "source": [
        "taquerias = [\n",
        "             \"Los Güeros\", #0\n",
        "             \"Veloz\", #1\n",
        "             \"Tacos Los Papis\", #2\n",
        "             \"Takesabroso\" #3\n",
        "]"
      ],
      "execution_count": 4,
      "outputs": []
    },
    {
      "cell_type": "code",
      "metadata": {
        "colab": {
          "base_uri": "https://localhost:8080/"
        },
        "id": "MsvQFUWoI_Za",
        "outputId": "35b9feb7-685c-45fd-aa4a-450ed49cb000"
      },
      "source": [
        "print(taquerias)"
      ],
      "execution_count": 5,
      "outputs": [
        {
          "output_type": "stream",
          "text": [
            "['Los Güeros', 'Veloz', 'Tacos Los Papis', 'Takesabroso']\n"
          ],
          "name": "stdout"
        }
      ]
    },
    {
      "cell_type": "code",
      "metadata": {
        "colab": {
          "base_uri": "https://localhost:8080/"
        },
        "id": "ncBguz4yJPdU",
        "outputId": "f3d7bdc5-9495-4746-aa83-59a57ee6981d"
      },
      "source": [
        "print(taquerias[0])\n",
        "print(taquerias[3])"
      ],
      "execution_count": 8,
      "outputs": [
        {
          "output_type": "stream",
          "text": [
            "Los Güeros\n",
            "Takesabroso\n"
          ],
          "name": "stdout"
        }
      ]
    },
    {
      "cell_type": "code",
      "metadata": {
        "colab": {
          "base_uri": "https://localhost:8080/"
        },
        "id": "-8wrWkvrJpDN",
        "outputId": "fdc3430b-3e36-4b04-b071-b25d9a957147"
      },
      "source": [
        "# lenght\n",
        "print(len(taquerias))"
      ],
      "execution_count": 11,
      "outputs": [
        {
          "output_type": "stream",
          "text": [
            "4\n"
          ],
          "name": "stdout"
        }
      ]
    },
    {
      "cell_type": "code",
      "metadata": {
        "colab": {
          "base_uri": "https://localhost:8080/"
        },
        "id": "KAJO26_TJwBj",
        "outputId": "d1ba08be-9966-4765-f427-898734fcfe52"
      },
      "source": [
        "print(taquerias[0])\n",
        "taquerias[0] = \"El Güero\"\n",
        "print(taquerias[0])"
      ],
      "execution_count": 10,
      "outputs": [
        {
          "output_type": "stream",
          "text": [
            "Los Güeros\n",
            "El Güero\n"
          ],
          "name": "stdout"
        }
      ]
    },
    {
      "cell_type": "code",
      "metadata": {
        "colab": {
          "base_uri": "https://localhost:8080/"
        },
        "id": "-H13P6IqJ_o7",
        "outputId": "c73b77f9-3ab7-4cec-e1d2-14fd9b97d74c"
      },
      "source": [
        "taquerias_t = (\n",
        "             \"Los Güeros\", #0\n",
        "             \"Veloz\", #1\n",
        "             \"Tacos Los Papis\", #2\n",
        "             \"Takesabroso\" #3\n",
        ")\n",
        "\n",
        "print(taquerias_t[2])"
      ],
      "execution_count": 12,
      "outputs": [
        {
          "output_type": "stream",
          "text": [
            "Tacos Los Papis\n"
          ],
          "name": "stdout"
        }
      ]
    },
    {
      "cell_type": "code",
      "metadata": {
        "colab": {
          "base_uri": "https://localhost:8080/",
          "height": 212
        },
        "id": "g5T--B3eKd_3",
        "outputId": "64708aba-e4d4-485e-ba21-d701d389f992"
      },
      "source": [
        "# Una tupla es INMUTABLE\n",
        "print(taquerias_t[0])\n",
        "taquerias_t[0] = \"El Güero\"\n",
        "print(taquerias_t[0])"
      ],
      "execution_count": 13,
      "outputs": [
        {
          "output_type": "stream",
          "text": [
            "Los Güeros\n"
          ],
          "name": "stdout"
        },
        {
          "output_type": "error",
          "ename": "TypeError",
          "evalue": "ignored",
          "traceback": [
            "\u001b[0;31m---------------------------------------------------------------------------\u001b[0m",
            "\u001b[0;31mTypeError\u001b[0m                                 Traceback (most recent call last)",
            "\u001b[0;32m<ipython-input-13-d1d4bcbc5cf8>\u001b[0m in \u001b[0;36m<module>\u001b[0;34m()\u001b[0m\n\u001b[1;32m      1\u001b[0m \u001b[0mprint\u001b[0m\u001b[0;34m(\u001b[0m\u001b[0mtaquerias_t\u001b[0m\u001b[0;34m[\u001b[0m\u001b[0;36m0\u001b[0m\u001b[0;34m]\u001b[0m\u001b[0;34m)\u001b[0m\u001b[0;34m\u001b[0m\u001b[0;34m\u001b[0m\u001b[0m\n\u001b[0;32m----> 2\u001b[0;31m \u001b[0mtaquerias_t\u001b[0m\u001b[0;34m[\u001b[0m\u001b[0;36m0\u001b[0m\u001b[0;34m]\u001b[0m \u001b[0;34m=\u001b[0m \u001b[0;34m\"El Güero\"\u001b[0m\u001b[0;34m\u001b[0m\u001b[0;34m\u001b[0m\u001b[0m\n\u001b[0m\u001b[1;32m      3\u001b[0m \u001b[0mprint\u001b[0m\u001b[0;34m(\u001b[0m\u001b[0mtaquerias_t\u001b[0m\u001b[0;34m[\u001b[0m\u001b[0;36m0\u001b[0m\u001b[0;34m]\u001b[0m\u001b[0;34m)\u001b[0m\u001b[0;34m\u001b[0m\u001b[0;34m\u001b[0m\u001b[0m\n",
            "\u001b[0;31mTypeError\u001b[0m: 'tuple' object does not support item assignment"
          ]
        }
      ]
    },
    {
      "cell_type": "code",
      "metadata": {
        "colab": {
          "base_uri": "https://localhost:8080/"
        },
        "id": "ar3h3N3PKl1m",
        "outputId": "d3f46c09-720d-4db2-bc49-ea3f4e90532e"
      },
      "source": [
        "# [inicio:fin - 1:salto] <-- Slicing\n",
        "print(taquerias)\n",
        "print(taquerias[0:len(taquerias):2])\n",
        "print(taquerias[1:3 + 1])"
      ],
      "execution_count": 15,
      "outputs": [
        {
          "output_type": "stream",
          "text": [
            "['El Güero', 'Veloz', 'Tacos Los Papis', 'Takesabroso']\n",
            "['El Güero', 'Tacos Los Papis']\n",
            "['Veloz', 'Tacos Los Papis', 'Takesabroso']\n"
          ],
          "name": "stdout"
        }
      ]
    },
    {
      "cell_type": "code",
      "metadata": {
        "colab": {
          "base_uri": "https://localhost:8080/"
        },
        "id": "pKDYq6AiLEJF",
        "outputId": "6feb6e2b-6ef8-4f51-e04b-fe8646b87334"
      },
      "source": [
        "\"Tacos el Inge\" in taquerias"
      ],
      "execution_count": 16,
      "outputs": [
        {
          "output_type": "execute_result",
          "data": {
            "text/plain": [
              "False"
            ]
          },
          "metadata": {},
          "execution_count": 16
        }
      ]
    },
    {
      "cell_type": "code",
      "metadata": {
        "colab": {
          "base_uri": "https://localhost:8080/"
        },
        "id": "QDUIMpfhMVR4",
        "outputId": "12a74237-58e9-4bb7-b8d5-bdfcc42308cf"
      },
      "source": [
        "taqueria = input()\n",
        "\n",
        "if taqueria in taquerias:\n",
        "  print(\"Ya se donde estas.\")\n",
        "else:\n",
        "  print(\"No sé on tas.\")"
      ],
      "execution_count": 19,
      "outputs": [
        {
          "output_type": "stream",
          "text": [
            "TAcos el ingge\n",
            "No sé on tas.\n"
          ],
          "name": "stdout"
        }
      ]
    },
    {
      "cell_type": "markdown",
      "metadata": {
        "id": "ENgXdX1vN4kN"
      },
      "source": [
        "#Ciclos - `for`\n",
        "\n"
      ]
    },
    {
      "cell_type": "code",
      "metadata": {
        "colab": {
          "base_uri": "https://localhost:8080/"
        },
        "id": "3fy4xOTJMmuj",
        "outputId": "1e8a7028-e90b-4a95-d4df-7ffd6c5cda07"
      },
      "source": [
        "print(taquerias)"
      ],
      "execution_count": 20,
      "outputs": [
        {
          "output_type": "stream",
          "text": [
            "['El Güero', 'Veloz', 'Tacos Los Papis', 'Takesabroso']\n"
          ],
          "name": "stdout"
        }
      ]
    },
    {
      "cell_type": "code",
      "metadata": {
        "colab": {
          "base_uri": "https://localhost:8080/"
        },
        "id": "3D4wPRRxOqJd",
        "outputId": "2b886488-407e-42b6-fbb8-b8c19427ec1b"
      },
      "source": [
        "for takeria in taquerias:\n",
        "  print(takeria)"
      ],
      "execution_count": 21,
      "outputs": [
        {
          "output_type": "stream",
          "text": [
            "El Güero\n",
            "Veloz\n",
            "Tacos Los Papis\n",
            "Takesabroso\n"
          ],
          "name": "stdout"
        }
      ]
    },
    {
      "cell_type": "code",
      "metadata": {
        "colab": {
          "base_uri": "https://localhost:8080/"
        },
        "id": "qll31PaOO1gK",
        "outputId": "ef6e8177-1a79-4513-ed32-68b1529ac7d6"
      },
      "source": [
        "list(range(1, 11))"
      ],
      "execution_count": 24,
      "outputs": [
        {
          "output_type": "execute_result",
          "data": {
            "text/plain": [
              "[1, 2, 3, 4, 5, 6, 7, 8, 9, 10]"
            ]
          },
          "metadata": {},
          "execution_count": 24
        }
      ]
    },
    {
      "cell_type": "code",
      "metadata": {
        "colab": {
          "base_uri": "https://localhost:8080/"
        },
        "id": "ggu9kgXnd9Em",
        "outputId": "0f1500df-ba11-44d8-825a-09ea166935b9"
      },
      "source": [
        "for i in range(len(taquerias)):\n",
        "  print(taquerias[i])"
      ],
      "execution_count": 25,
      "outputs": [
        {
          "output_type": "stream",
          "text": [
            "El Güero\n",
            "Veloz\n",
            "Tacos Los Papis\n",
            "Takesabroso\n"
          ],
          "name": "stdout"
        }
      ]
    },
    {
      "cell_type": "code",
      "metadata": {
        "id": "D7kABM0jeLmM"
      },
      "source": [
        "alumnos = [\n",
        "           \"Alexis\",\n",
        "           \"Anneliesse\",\n",
        "           \"Anonymous\",\n",
        "           \"Lailha\"\n",
        "]"
      ],
      "execution_count": 26,
      "outputs": []
    },
    {
      "cell_type": "code",
      "metadata": {
        "colab": {
          "base_uri": "https://localhost:8080/"
        },
        "id": "Jg9sw7fkfYM7",
        "outputId": "47fdf578-17b9-4a50-f3c6-61e74993dcbb"
      },
      "source": [
        "for alumno in alumnos:\n",
        "  print(alumno)"
      ],
      "execution_count": 27,
      "outputs": [
        {
          "output_type": "stream",
          "text": [
            "Alexis\n",
            "Anneliesse\n",
            "Anonymous\n",
            "Lailha\n"
          ],
          "name": "stdout"
        }
      ]
    },
    {
      "cell_type": "code",
      "metadata": {
        "colab": {
          "base_uri": "https://localhost:8080/"
        },
        "id": "2KN_ohdCfcs5",
        "outputId": "a210560b-2ffd-48f4-802d-2e9de82acba2"
      },
      "source": [
        "print(alumnos)\n",
        "alumnos.append(\"Richard\")\n",
        "print(alumnos)"
      ],
      "execution_count": 28,
      "outputs": [
        {
          "output_type": "stream",
          "text": [
            "['Alexis', 'Anneliesse', 'Anonymous', 'Lailha']\n",
            "['Alexis', 'Anneliesse', 'Anonymous', 'Lailha', 'Richard']\n"
          ],
          "name": "stdout"
        }
      ]
    },
    {
      "cell_type": "code",
      "metadata": {
        "colab": {
          "base_uri": "https://localhost:8080/"
        },
        "id": "snQmtQ2Nfp2I",
        "outputId": "6baab91c-b001-498a-9d88-eb0b77ee3d7e"
      },
      "source": [
        "for i in range(5):\n",
        "  print((i+1)*\"*\")"
      ],
      "execution_count": 29,
      "outputs": [
        {
          "output_type": "stream",
          "text": [
            "*\n",
            "**\n",
            "***\n",
            "****\n",
            "*****\n"
          ],
          "name": "stdout"
        }
      ]
    },
    {
      "cell_type": "markdown",
      "metadata": {
        "id": "I3s5gd37gnjy"
      },
      "source": [
        "#Funciones (pt. 1)"
      ]
    },
    {
      "cell_type": "code",
      "metadata": {
        "id": "7Fj3D1Cngd8m"
      },
      "source": [
        "def F(masa):\n",
        "  # 2da. Ley de Newton\n",
        "  # f = ma\n",
        "\n",
        "  a = 9.81\n",
        "  fuerza = masa * a\n",
        "  print(fuerza)"
      ],
      "execution_count": 32,
      "outputs": []
    },
    {
      "cell_type": "code",
      "metadata": {
        "colab": {
          "base_uri": "https://localhost:8080/"
        },
        "id": "OAEEwH6Cit6B",
        "outputId": "634466f3-0f01-4134-a433-2abc9400eb87"
      },
      "source": [
        "F(80)\n",
        "F(56)\n",
        "F(67)"
      ],
      "execution_count": 33,
      "outputs": [
        {
          "output_type": "stream",
          "text": [
            "784.8000000000001\n",
            "549.36\n",
            "657.27\n"
          ],
          "name": "stdout"
        }
      ]
    },
    {
      "cell_type": "code",
      "metadata": {
        "id": "Kc1F43Dci0nL"
      },
      "source": [
        "def segunda_de_Newton(masa,aceleracion):\n",
        "  fuerza = masa * aceleracion\n",
        "  return fuerza"
      ],
      "execution_count": 34,
      "outputs": []
    },
    {
      "cell_type": "code",
      "metadata": {
        "colab": {
          "base_uri": "https://localhost:8080/"
        },
        "id": "uXCu5528jS1Y",
        "outputId": "6706742b-601c-4d37-ed01-48043c263226"
      },
      "source": [
        "print(\"Fuerza en la Tierra\")\n",
        "print(segunda_de_Newton(50, 9.81))\n",
        "\n",
        "print(\"Fuerza en la Luna\")\n",
        "print(segunda_de_Newton(50, 1.62))"
      ],
      "execution_count": 35,
      "outputs": [
        {
          "output_type": "stream",
          "text": [
            "Fuerza en la Tierra\n",
            "490.5\n",
            "Fuerza en la Luna\n",
            "81.0\n"
          ],
          "name": "stdout"
        }
      ]
    },
    {
      "cell_type": "code",
      "metadata": {
        "colab": {
          "base_uri": "https://localhost:8080/"
        },
        "id": "o7cKkE4Yj5ZO",
        "outputId": "9e7d1d5f-d61a-4ef0-f81e-a76bb74a555a"
      },
      "source": [
        "m = input(\"Masa: \")\n",
        "m = int(m)\n",
        "\n",
        "print(\"Fuerza en la Tierra: \", segunda_de_Newton(m, 9.81), \" N\")\n",
        "\n",
        "print(\"Fuerza en la Luna: \", segunda_de_Newton(m, 1.62), \" N\")"
      ],
      "execution_count": 40,
      "outputs": [
        {
          "output_type": "stream",
          "text": [
            "Masa: 16\n",
            "Fuerza en la Tierra:  156.96  N\n",
            "Fuerza en la Luna:  25.92  N\n"
          ],
          "name": "stdout"
        }
      ]
    }
  ]
}