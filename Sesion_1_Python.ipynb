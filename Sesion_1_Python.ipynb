{
  "nbformat": 4,
  "nbformat_minor": 0,
  "metadata": {
    "colab": {
      "name": "Sesion 1 - Python.ipynb",
      "provenance": [],
      "collapsed_sections": [],
      "authorship_tag": "ABX9TyMjhueGtWWdlbDLMm/Ox8pD",
      "include_colab_link": true
    },
    "kernelspec": {
      "name": "python3",
      "display_name": "Python 3"
    },
    "language_info": {
      "name": "python"
    }
  },
  "cells": [
    {
      "cell_type": "markdown",
      "metadata": {
        "id": "view-in-github",
        "colab_type": "text"
      },
      "source": [
        "<a href=\"https://colab.research.google.com/github/EnderTroll20/Curso-Python/blob/main/Sesion_1_Python.ipynb\" target=\"_parent\"><img src=\"https://colab.research.google.com/assets/colab-badge.svg\" alt=\"Open In Colab\"/></a>"
      ]
    },
    {
      "cell_type": "code",
      "metadata": {
        "colab": {
          "base_uri": "https://localhost:8080/"
        },
        "id": "raCAggaB8POq",
        "outputId": "423288c9-5993-43a3-dbc0-5be378e30d05"
      },
      "source": [
        "print(\"¡Hola Mundo!\")"
      ],
      "execution_count": null,
      "outputs": [
        {
          "output_type": "stream",
          "text": [
            "¡Hola Mundo!\n"
          ],
          "name": "stdout"
        }
      ]
    },
    {
      "cell_type": "code",
      "metadata": {
        "colab": {
          "base_uri": "https://localhost:8080/"
        },
        "id": "tCs15hIQ9Ry6",
        "outputId": "f1db42af-bd28-4909-b7c3-f5b4cf60399e"
      },
      "source": [
        "age = input(\"Dime tu edad: \")\n",
        "print(\"Tu edad es:\",age)"
      ],
      "execution_count": null,
      "outputs": [
        {
          "output_type": "stream",
          "text": [
            "Dime tu edad: 13\n",
            "Tu edad es: 13\n"
          ],
          "name": "stdout"
        }
      ]
    },
    {
      "cell_type": "code",
      "metadata": {
        "colab": {
          "base_uri": "https://localhost:8080/"
        },
        "id": "lRpP2i0R_kqX",
        "outputId": "38707bef-2820-4aac-b8e9-9fcf0143f834"
      },
      "source": [
        "print(type(age))"
      ],
      "execution_count": null,
      "outputs": [
        {
          "output_type": "stream",
          "text": [
            "<class 'str'>\n"
          ],
          "name": "stdout"
        }
      ]
    },
    {
      "cell_type": "code",
      "metadata": {
        "colab": {
          "base_uri": "https://localhost:8080/"
        },
        "id": "t08sh_op__uD",
        "outputId": "2f164a46-ada8-4ee8-9bc0-0a6fb4af26f8"
      },
      "source": [
        "edad = 20\n",
        "print(edad + 50)\n",
        "print(edad - 10)\n",
        "print(edad * 2)\n",
        "print(edad / 2)"
      ],
      "execution_count": null,
      "outputs": [
        {
          "output_type": "stream",
          "text": [
            "70\n",
            "10\n",
            "40\n",
            "10.0\n"
          ],
          "name": "stdout"
        }
      ]
    },
    {
      "cell_type": "code",
      "metadata": {
        "colab": {
          "base_uri": "https://localhost:8080/"
        },
        "id": "_JvjbWO2CQqS",
        "outputId": "2d3b2041-ff06-4620-c7d6-1bfee3974659"
      },
      "source": [
        "edad = -1\n",
        "if edad >= 18 and edad <= 100:\n",
        "  print(\"Eres mayor de edad.\")\n",
        "elif edad > 100:\n",
        "  print(\"Ya estas morido.\")\n",
        "elif edad < 0:\n",
        "  print(\"Tu edad no tiene sentido.\")\n",
        "else:\n",
        "  print(\"Eres menor de edad.\")"
      ],
      "execution_count": null,
      "outputs": [
        {
          "output_type": "stream",
          "text": [
            "Tu edad no tiene sentido.\n"
          ],
          "name": "stdout"
        }
      ]
    },
    {
      "cell_type": "code",
      "metadata": {
        "colab": {
          "base_uri": "https://localhost:8080/"
        },
        "id": "opWRwYHxGE9n",
        "outputId": "649fe9c7-6cf0-41f1-ebbb-3c54b6236310"
      },
      "source": [
        "Tu = 56\n",
        "El = 84\n",
        "Yo = 20\n",
        "\n",
        "edad_total = Tu + El + Yo\n",
        "print(edad_total)"
      ],
      "execution_count": null,
      "outputs": [
        {
          "output_type": "stream",
          "text": [
            "160\n"
          ],
          "name": "stdout"
        }
      ]
    },
    {
      "cell_type": "code",
      "metadata": {
        "colab": {
          "base_uri": "https://localhost:8080/"
        },
        "id": "PpfwoFq_HISz",
        "outputId": "9f8c0788-b83f-4c4e-c50c-c33c36834164"
      },
      "source": [
        "edad = input(\"Introduce tu edad -> \")\n",
        "edad = int(edad)\n",
        "if edad >= 18 and edad <= 100:\n",
        "  print(\"Eres mayor de edad.\")\n",
        "elif edad > 100:\n",
        "  print(\"Ya estas morido.\")\n",
        "elif edad <= 0:\n",
        "  print(\"Tu edad no tiene sentido.\")\n",
        "else:\n",
        "  print(\"Eres menor de edad.\")"
      ],
      "execution_count": null,
      "outputs": [
        {
          "output_type": "stream",
          "text": [
            "Introduce tu edad -> 120\n",
            "Ya estas morido.\n"
          ],
          "name": "stdout"
        }
      ]
    },
    {
      "cell_type": "code",
      "metadata": {
        "colab": {
          "base_uri": "https://localhost:8080/"
        },
        "id": "6nkBl_xnH2SS",
        "outputId": "8546f440-679d-4b95-d942-05e2c0e473ef"
      },
      "source": [
        "animal = \"caballo\"\n",
        "color = \"negro\"\n",
        "\n",
        "if animal == \"caballo\":\n",
        "  if color == \"negro\":\n",
        "    print(\"¡Es mi caballo!\")\n",
        "  else:\n",
        "    print(\"No es mi caballo\")\n",
        "else:\n",
        "  print(\"No se que animal es.\")"
      ],
      "execution_count": null,
      "outputs": [
        {
          "output_type": "stream",
          "text": [
            "¡Es mi caballo!\n"
          ],
          "name": "stdout"
        }
      ]
    }
  ]
}